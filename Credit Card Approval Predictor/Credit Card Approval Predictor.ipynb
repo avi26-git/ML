{
  "nbformat": 4,
  "nbformat_minor": 0,
  "metadata": {
    "colab": {
      "name": "Untitled1.ipynb",
      "version": "0.3.2",
      "provenance": [],
      "collapsed_sections": [],
      "toc_visible": true,
      "include_colab_link": true
    },
    "kernelspec": {
      "name": "python3",
      "display_name": "Python 3"
    }
  },
  "cells": [
    {
      "cell_type": "markdown",
      "metadata": {
        "id": "view-in-github",
        "colab_type": "text"
      },
      "source": [
        "<a href=\"https://colab.research.google.com/github/avi26-git/ML/blob/master/Credit%20Card%20Approval%20Predictor/Credit%20Card%20Approval%20Predictor.ipynb\" target=\"_parent\"><img src=\"https://colab.research.google.com/assets/colab-badge.svg\" alt=\"Open In Colab\"/></a>"
      ]
    },
    {
      "metadata": {
        "id": "e6bBi9_a5dck",
        "colab_type": "text"
      },
      "cell_type": "markdown",
      "source": [
        "# **Automatic Credit Card Approval Prediction**\n",
        "\n",
        "---\n",
        "\n"
      ]
    },
    {
      "metadata": {
        "id": "umpw0OLL5okw",
        "colab_type": "text"
      },
      "cell_type": "markdown",
      "source": [
        "Credit card applications get rejected many times because of various reasons. e.g., high loan balances, low income levels or fault payments.\n",
        "This can be a mundane, time taking and error prone task for humans, here we'll use machine learning to automate this process.\n",
        "The dataset that would be used is : [Credit Card Approval dataset](http://archive.ics.uci.edu/ml/datasets/credit+approval) from the UCI Machine Learning Repository."
      ]
    },
    {
      "metadata": {
        "id": "RGJuF_Vp62-O",
        "colab_type": "text"
      },
      "cell_type": "markdown",
      "source": [
        "The structure of this notebook would be:\n",
        "\n",
        "\n",
        "1.   Loading and viewing the dataset.\n",
        "2.   Data preprocessing.\n",
        "3.   EDA.\n",
        "4.   ML Model.\n",
        "\n"
      ]
    },
    {
      "metadata": {
        "id": "VOqP-_E57iez",
        "colab_type": "text"
      },
      "cell_type": "markdown",
      "source": [
        "## 1. Loading and viewing data.\n",
        "\n"
      ]
    },
    {
      "metadata": {
        "id": "J03yr0Te7zRK",
        "colab_type": "text"
      },
      "cell_type": "markdown",
      "source": [
        "### Importing necessary libraries"
      ]
    },
    {
      "metadata": {
        "id": "D-Yuj1-lAmjZ",
        "colab_type": "code",
        "colab": {}
      },
      "cell_type": "code",
      "source": [
        "from __future__ import print_function\n",
        "\n",
        "import math\n",
        "\n",
        "from IPython import display\n",
        "from matplotlib import cm\n",
        "from matplotlib import gridspec\n",
        "from matplotlib import pyplot as plt\n",
        "import numpy as np\n",
        "import pandas as pd\n",
        "from sklearn import metrics\n",
        "import tensorflow as tf\n",
        "from tensorflow.python.data import Dataset\n",
        "\n",
        "tf.logging.set_verbosity(tf.logging.ERROR)\n",
        "pd.options.display.max_rows = 10\n",
        "pd.options.display.float_format = '{:.1f}'.format"
      ],
      "execution_count": 0,
      "outputs": []
    }
  ]
}