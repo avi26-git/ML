{
  "nbformat": 4,
  "nbformat_minor": 0,
  "metadata": {
    "colab": {
      "name": "Untitled1.ipynb",
      "version": "0.3.2",
      "provenance": [],
      "collapsed_sections": [],
      "toc_visible": true
    },
    "kernelspec": {
      "name": "python3",
      "display_name": "Python 3"
    }
  },
  "cells": [
    {
      "metadata": {
        "id": "e6bBi9_a5dck",
        "colab_type": "text"
      },
      "cell_type": "markdown",
      "source": [
        "# **Automatic Credit Card Approval Prediction**\n",
        "\n",
        "---\n",
        "\n"
      ]
    },
    {
      "metadata": {
        "id": "umpw0OLL5okw",
        "colab_type": "text"
      },
      "cell_type": "markdown",
      "source": [
        "Credit card applications get rejected many times because of various reasons. e.g., high loan balances, low income levels or fault payments.\n",
        "This can be a mundane, time taking and error prone task for humans, here we'll use machine learning to automate this process.\n",
        "The dataset that would be used is : [Credit Card Approval dataset](http://archive.ics.uci.edu/ml/datasets/credit+approval) from the UCI Machine Learning Repository."
      ]
    },
    {
      "metadata": {
        "id": "RGJuF_Vp62-O",
        "colab_type": "text"
      },
      "cell_type": "markdown",
      "source": [
        "The structure of this notebook would be:\n",
        "\n",
        "\n",
        "1.   Loading and viewing the dataset.\n",
        "2.   Data preprocessing.\n",
        "3.   EDA.\n",
        "4.   ML Model.\n",
        "\n"
      ]
    },
    {
      "metadata": {
        "id": "VOqP-_E57iez",
        "colab_type": "text"
      },
      "cell_type": "markdown",
      "source": [
        "## 1. Loading and viewing data.\n",
        "\n"
      ]
    },
    {
      "metadata": {
        "id": "J03yr0Te7zRK",
        "colab_type": "text"
      },
      "cell_type": "markdown",
      "source": [
        ""
      ]
    }
  ]
}
